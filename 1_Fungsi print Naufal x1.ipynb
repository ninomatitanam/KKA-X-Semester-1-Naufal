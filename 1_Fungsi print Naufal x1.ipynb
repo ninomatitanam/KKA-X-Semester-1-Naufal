{
  "nbformat": 4,
  "nbformat_minor": 0,
  "metadata": {
    "colab": {
      "provenance": [],
      "authorship_tag": "ABX9TyPfgjnqOAPoY1UzxjKkVgRH",
      "include_colab_link": true
    },
    "kernelspec": {
      "name": "python3",
      "display_name": "Python 3"
    },
    "language_info": {
      "name": "python"
    }
  },
  "cells": [
    {
      "cell_type": "markdown",
      "metadata": {
        "id": "view-in-github",
        "colab_type": "text"
      },
      "source": [
        "<a href=\"https://colab.research.google.com/github/ninomatitanam/KKA-X-Semester-1-Naufal/blob/main/1_Fungsi%20print%20Naufal%20x1.ipynb\" target=\"_parent\"><img src=\"https://colab.research.google.com/assets/colab-badge.svg\" alt=\"Open In Colab\"/></a>"
      ]
    },
    {
      "cell_type": "code",
      "execution_count": null,
      "metadata": {
        "colab": {
          "base_uri": "https://localhost:8080/"
        },
        "id": "Jw5aHeGzykcs",
        "outputId": "d1ae963f-7ebd-4b53-8ff5-476e07a17ef6"
      },
      "outputs": [
        {
          "output_type": "stream",
          "name": "stdout",
          "text": [
            "nama pengguna : Nino\n",
            "BB penguna : 66\n",
            "TB penguna : 1.56\n"
          ]
        }
      ],
      "source": [
        "nama = \"Nino\"\n",
        "BB = 66\n",
        "TB = 1.56\n",
        "print(\"nama pengguna :\",nama)\n",
        "print(\"BB penguna :\",BB)\n",
        "print(\"TB penguna :\",TB)"
      ]
    },
    {
      "cell_type": "markdown",
      "source": [],
      "metadata": {
        "id": "XnVb_y7prC29"
      }
    },
    {
      "cell_type": "code",
      "source": [
        "print(\"Bu Shinta Berkata, \"Berikut adalah daftar piket harian kelas X.2 yang disimpan di file D:\\\\Man Demak\\\\Jadwal Piket.\")\n",
        "print(\"\\n\")\n",
        "print(\"Senin\\tSelasa\\tRabu\")\n",
        "print(\"Jielo\\tHasbi\\tNaufal\")\n",
        "print(\"Azam\\tA'inun\\tNurul\")"
      ],
      "metadata": {
        "id": "E6rGTOB-kKAT",
        "colab": {
          "base_uri": "https://localhost:8080/"
        },
        "outputId": "17a89b79-2489-4915-e4db-e232de2ffe0c"
      },
      "execution_count": null,
      "outputs": [
        {
          "output_type": "stream",
          "name": "stdout",
          "text": [
            "Bu Shinta Berkata, \"Berikut adalah daftar piket harian kelas X.2 yang disimpan di file D:\\Man Demak\\Jadwal Piket.\n",
            "\n",
            "\n",
            "Senin\tSelasa\tRabu\n",
            "Jielo\tHasbi\tNaufal\n",
            "Azam\tA'inun\tNurul\n"
          ]
        }
      ]
    },
    {
      "cell_type": "code",
      "source": [
        "\"\"\"\n",
        "latihan\n",
        "\n",
        "nama_siswa_3 = \"Kinan\"\n",
        "nama_siswa = \"azka\""
      ],
      "metadata": {
        "id": "5JTXnNYYkWZM"
      },
      "execution_count": null,
      "outputs": []
    },
    {
      "cell_type": "code",
      "source": [
        "print(\"Nama saya adalah\",nama,\". dan BB saya \",BB,\" KG.\")"
      ],
      "metadata": {
        "colab": {
          "base_uri": "https://localhost:8080/",
          "height": 570
        },
        "id": "gNf_yDzG53iL",
        "outputId": "e2446f24-9060-49ac-9e80-e722abb5a8a8"
      },
      "execution_count": null,
      "outputs": [
        {
          "output_type": "error",
          "ename": "NameError",
          "evalue": "name 'nama_pengguna' is not defined",
          "traceback": [
            "\u001b[0;31m---------------------------------------------------------------------------\u001b[0m",
            "\u001b[0;31mNameError\u001b[0m                                 Traceback (most recent call last)",
            "\u001b[0;32m/tmp/ipython-input-3880919911.py\u001b[0m in \u001b[0;36m<cell line: 0>\u001b[0;34m()\u001b[0m\n\u001b[0;32m----> 1\u001b[0;31m \u001b[0mprint\u001b[0m\u001b[0;34m(\u001b[0m\u001b[0;34m\"Nama saya adalah\"\u001b[0m\u001b[0;34m,\u001b[0m\u001b[0mnama_pengguna\u001b[0m\u001b[0;34m,\u001b[0m\u001b[0;34m\". dan BB saya \"\u001b[0m\u001b[0;34m,\u001b[0m\u001b[0mBB_pengguna\u001b[0m\u001b[0;34m,\u001b[0m\u001b[0;34m\" KG.\"\u001b[0m\u001b[0;34m)\u001b[0m\u001b[0;34m\u001b[0m\u001b[0;34m\u001b[0m\u001b[0m\n\u001b[0m",
            "\u001b[0;31mNameError\u001b[0m: name 'nama_pengguna' is not defined"
          ]
        }
      ]
    },
    {
      "cell_type": "code",
      "source": [
        "nama_penguna = input(\"masukan nama anda\")\n",
        "BB_penguna = input(\"masukan BB anda\")\n",
        "TB_penguna = input(\"masukan TB anda\")"
      ],
      "metadata": {
        "colab": {
          "base_uri": "https://localhost:8080/"
        },
        "id": "p3n_C-Qw1rmL",
        "outputId": "5a200913-fc56-47a8-b0c1-b83d9a84c078"
      },
      "execution_count": null,
      "outputs": [
        {
          "name": "stdout",
          "output_type": "stream",
          "text": [
            "masukan nama andanino\n",
            "masukan BB anda100\n",
            "masukan TB anda1649\n"
          ]
        }
      ]
    }
  ]
}